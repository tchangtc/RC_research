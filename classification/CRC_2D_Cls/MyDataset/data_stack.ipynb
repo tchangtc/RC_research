{
 "cells": [
  {
   "cell_type": "code",
   "execution_count": null,
   "metadata": {},
   "outputs": [],
   "source": [
    "import cv2\n",
    "import numpy as np\n",
    "import pandas as pd\n"
   ]
  },
  {
   "cell_type": "code",
   "execution_count": null,
   "metadata": {},
   "outputs": [],
   "source": [
    "df = pd.read_csv(f'/home/project/AMP_mysef_2D_Cls/MyDataset/2d_cls.csv')\n",
    "# for t, d in df.iterrows():\n",
    "#     print(t)\n",
    "#     print(d)"
   ]
  },
  {
   "cell_type": "code",
   "execution_count": null,
   "metadata": {},
   "outputs": [],
   "source": [
    "image_dir = f'/home/project/AMP_mysef_2D_Cls/data/png_img'\n",
    "def read_data(d):\n",
    "    # image = []\n",
    "    # for t, d in df.iterrows():\n",
    "        # m = cv2.imread(f'{image_dir}/{d.patient_id}_{d.image_id}.png', cv2.IMREAD_GRAYSCALE)\n",
    "    image = cv2.imread(f'{image_dir}/{d.img_dir}/{d.img_name}.png', cv2.IMREAD_GRAYSCALE)\n",
    "    print(f'{image_dir}/{d.img_dir}/{d.img_name}.png')\n",
    "    # image.append(m)\n",
    "    \n",
    "    # image = np.stack(image)\n",
    "    return image"
   ]
  },
  {
   "cell_type": "code",
   "execution_count": null,
   "metadata": {},
   "outputs": [],
   "source": [
    "image = read_data(df)"
   ]
  },
  {
   "cell_type": "code",
   "execution_count": null,
   "metadata": {},
   "outputs": [],
   "source": []
  }
 ],
 "metadata": {
  "kernelspec": {
   "display_name": "MySegCls",
   "language": "python",
   "name": "python3"
  },
  "language_info": {
   "codemirror_mode": {
    "name": "ipython",
    "version": 3
   },
   "file_extension": ".py",
   "mimetype": "text/x-python",
   "name": "python",
   "nbconvert_exporter": "python",
   "pygments_lexer": "ipython3",
   "version": "3.8.13"
  },
  "orig_nbformat": 4,
  "vscode": {
   "interpreter": {
    "hash": "b0d94fc16f7d19d0b172dc2a923499f7a9410020514f6a7ff3f9d6c9defe8f47"
   }
  }
 },
 "nbformat": 4,
 "nbformat_minor": 2
}
