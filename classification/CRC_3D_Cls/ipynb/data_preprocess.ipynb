{
 "cells": [
  {
   "cell_type": "code",
   "execution_count": null,
   "metadata": {},
   "outputs": [],
   "source": [
    "import os\n",
    "import numpy as np\n",
    "import pandas as pd\n"
   ]
  },
  {
   "cell_type": "code",
   "execution_count": null,
   "metadata": {},
   "outputs": [],
   "source": [
    "def create_train_df_cls_img(path_img):\n",
    "    count = 0\n",
    "    col_name = ['img_name', 'img_path']\n",
    "    imgs_info = []      # img_name, img_path, img_label\n",
    "    for img_name in sorted(os.listdir(path_img)):\n",
    "        # print(img_dir)\n",
    "        # for img_name in sorted(os.listdir(os.path.join(path_img + img_dir))):\n",
    "            print(img_name)\n",
    "            if img_name.endswith('.nii.gz'):\n",
    "                imgs_info.append([img_name.split('.')[0], os.path.join(path_img, img_name)])\n",
    "                count += 1\n",
    "    \n",
    "    print(count)\n",
    "    \n",
    "    imgs_info_array = np.array(imgs_info)\n",
    "    df = pd.DataFrame(imgs_info_array, columns=col_name)\n",
    "    df.to_csv('./0404_train_img_3D_1.csv')\n",
    "\n",
    "path_train_img = f'/home/workspace/AMP_mysef_3D_Cls/data/final_out/imgTr/'\n",
    "\n",
    "create_train_df_cls_img(path_train_img)"
   ]
  },
  {
   "cell_type": "code",
   "execution_count": null,
   "metadata": {},
   "outputs": [],
   "source": [
    "def create_train_df_cls_mask(path_mask):\n",
    "    count = 0\n",
    "    col_name = ['img_name', 'label_path']\n",
    "    imgs_info = []      # img_name, img_path, img_label\n",
    "    for img_name in sorted(os.listdir(path_mask)):\n",
    "        # print(img_dir)\n",
    "        # for img_name in sorted(os.listdir(os.path.join(path_mask + img_dir))):\n",
    "        print(img_name)\n",
    "        if img_name.endswith('.nii.gz'):\n",
    "            imgs_info.append([img_name.split('.')[0], os.path.join(path_mask, img_name)])\n",
    "            count += 1\n",
    "    \n",
    "    print(count)\n",
    "    \n",
    "    imgs_info_array = np.array(imgs_info)\n",
    "    df = pd.DataFrame(imgs_info_array, columns=col_name)\n",
    "    df.to_csv('./0404_train_label_3D_1.csv')\n",
    "\n",
    "path_train_mask = f'/home/workspace/AMP_mysef_3D_Cls/data/final_out/maskTr/'\n",
    "create_train_df_cls_mask(path_train_mask)"
   ]
  },
  {
   "cell_type": "code",
   "execution_count": null,
   "metadata": {},
   "outputs": [],
   "source": [
    "def create_train_df_cls_img(path_img):\n",
    "    count = 0\n",
    "    col_name = ['img_name', 'img_path']\n",
    "    imgs_info = []      # img_name, img_path, img_label\n",
    "    for img_name in sorted(os.listdir(path_img)):\n",
    "        # print(img_dir)\n",
    "        # for img_name in sorted(os.listdir(os.path.join(path_img + img_dir))):\n",
    "            print(img_name)\n",
    "            if img_name.endswith('.nii.gz'):\n",
    "                imgs_info.append([img_name.split('.')[0], os.path.join(path_img, img_name)])\n",
    "                count += 1\n",
    "    \n",
    "    print(count)\n",
    "    \n",
    "    imgs_info_array = np.array(imgs_info)\n",
    "    df = pd.DataFrame(imgs_info_array, columns=col_name)\n",
    "    df.to_csv('./0404_test_img_3D_1.csv')\n",
    "\n",
    "path_test_img = f'/home/workspace/AMP_mysef_3D_Cls/data/final_out/imgTs/'\n",
    "create_train_df_cls_img(path_test_img)"
   ]
  },
  {
   "cell_type": "code",
   "execution_count": null,
   "metadata": {},
   "outputs": [],
   "source": [
    "def create_train_df_cls_img(path_img):\n",
    "    count = 0\n",
    "    col_name = ['img_name', 'label_path']\n",
    "    imgs_info = []      # img_name, img_path, img_label\n",
    "    for img_name in sorted(os.listdir(path_img)):\n",
    "        # print(img_dir)\n",
    "        # for img_name in sorted(os.listdir(os.path.join(path_img + img_dir))):\n",
    "            print(img_name)\n",
    "            if img_name.endswith('.nii.gz'):\n",
    "                imgs_info.append([img_name.split('.')[0], os.path.join(path_img, img_name)])\n",
    "                count += 1\n",
    "    \n",
    "    print(count)\n",
    "    \n",
    "    imgs_info_array = np.array(imgs_info)\n",
    "    df = pd.DataFrame(imgs_info_array, columns=col_name)\n",
    "    df.to_csv('./0404_test_label_3D_1.csv')\n",
    "\n",
    "path_test_label = f'/home/workspace/AMP_mysef_3D_Cls/data/final_out/imgTr/'\n",
    "\n",
    "\n",
    "create_train_df_cls_img(path_test_label)"
   ]
  }
 ],
 "metadata": {
  "kernelspec": {
   "display_name": "Python 3.8.13 ('MySegCls')",
   "language": "python",
   "name": "python3"
  },
  "language_info": {
   "codemirror_mode": {
    "name": "ipython",
    "version": 3
   },
   "file_extension": ".py",
   "mimetype": "text/x-python",
   "name": "python",
   "nbconvert_exporter": "python",
   "pygments_lexer": "ipython3",
   "version": "3.8.16 (default, Mar  2 2023, 03:21:46) \n[GCC 11.2.0]"
  },
  "orig_nbformat": 4,
  "vscode": {
   "interpreter": {
    "hash": "b0d94fc16f7d19d0b172dc2a923499f7a9410020514f6a7ff3f9d6c9defe8f47"
   }
  }
 },
 "nbformat": 4,
 "nbformat_minor": 2
}
