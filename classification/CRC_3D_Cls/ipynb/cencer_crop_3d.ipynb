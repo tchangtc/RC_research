{
 "cells": [
  {
   "cell_type": "code",
   "execution_count": 1,
   "metadata": {},
   "outputs": [],
   "source": [
    "import os\n",
    "import numpy as np\n",
    "import glob\n",
    "import SimpleITK as sitk\n",
    "dis = [5, 20, 20]\n",
    "info_dict = {\n",
    "    'Spacing': 0,\n",
    "    'Size': 0,\n",
    "    'Origin': 0,\n",
    "    'Direction': 0,\n",
    "}"
   ]
  },
  {
   "cell_type": "code",
   "execution_count": 2,
   "metadata": {},
   "outputs": [],
   "source": [
    "# image_path = f'/home/workspace/AMP_mysef_3D_Cls/data/imagesTs/'\n",
    "# mask_path  = f'/home/workspace/AMP_mysef_3D_Cls/data/labelsTs/'"
   ]
  },
  {
   "cell_type": "code",
   "execution_count": 3,
   "metadata": {},
   "outputs": [],
   "source": [
    "# image_files = sorted(glob.glob(os.path.join(image_path + '*.nii.gz')))\n",
    "# mask_files  = sorted(glob.glob(os.path.join(mask_path + '*.nii.gz')))"
   ]
  },
  {
   "cell_type": "code",
   "execution_count": 4,
   "metadata": {},
   "outputs": [],
   "source": [
    "# image_file = f'/home/workspace/AMP_mysef_3D_Cls/data/imagesTs/crc_279.nii.gz'\n",
    "# mask_file  = f'/home/workspace/AMP_mysef_3D_Cls/data/labelsTs/crc_279.nii.gz'\n",
    "\n",
    "# data, seg = sitk.ReadImage(image_file), sitk.ReadImage(mask_file)\n",
    "# assert data.GetSpacing() == seg.GetSpacing()\n",
    "# assert data.GetSize() == seg.GetSize()\n",
    "# assert data.GetOrigin() == seg.GetOrigin()\n",
    "# assert data.GetDirection() == seg.GetDirection()\n"
   ]
  },
  {
   "cell_type": "code",
   "execution_count": 5,
   "metadata": {},
   "outputs": [],
   "source": [
    "# info_dict['Spacing']    = data.GetSpacing()\n",
    "# info_dict['Size']       = data.GetSize()\n",
    "# info_dict['Origin']     = data.GetOrigin()\n",
    "# info_dict['Direction']  = data.GetDirection()\n",
    "\n",
    "# data = sitk.GetArrayFromImage(data)\n",
    "# seg = sitk.GetArrayFromImage(seg)"
   ]
  },
  {
   "cell_type": "code",
   "execution_count": 6,
   "metadata": {},
   "outputs": [],
   "source": [
    "# seg"
   ]
  },
  {
   "cell_type": "code",
   "execution_count": 7,
   "metadata": {},
   "outputs": [],
   "source": [
    "# data = sitk.ReadImage(image_file)\n",
    "# data = sitk.GetArrayFromImage(data)\n",
    "# data[:].shape\n",
    "\n",
    "\n",
    "# seg = sitk.ReadImage(mask_file)\n",
    "# seg = sitk.GetArrayFromImage(seg)\n",
    "# seg[:].shape"
   ]
  },
  {
   "cell_type": "code",
   "execution_count": 8,
   "metadata": {},
   "outputs": [],
   "source": [
    "# def create_nonzero_mask(data):\n",
    "#     from scipy.ndimage import binary_fill_holes\n",
    "#     assert len(data.shape) == 4 or len(data.shape) == 3, \"data must have shape (C, X, Y, Z) or shape (C, X, Y)\"\n",
    "#     nonzero_mask = np.zeros(data.shape[:], dtype=bool)\n",
    "#     for c in range(len(data)):\n",
    "#         this_mask = data[c] != 0\n",
    "#         nonzero_mask = nonzero_mask | this_mask\n",
    "#     nonzero_mask = binary_fill_holes(nonzero_mask)\n",
    "#     return nonzero_mask\n",
    "\n",
    "def get_bbox_from_mask(mask, outside_value=0):\n",
    "    mask_voxel_coords = np.where(mask != outside_value)\n",
    "    minzidx = int(np.min(mask_voxel_coords[0]))\n",
    "    maxzidx = int(np.max(mask_voxel_coords[0])) + 1\n",
    "    minxidx = int(np.min(mask_voxel_coords[1]))\n",
    "    maxxidx = int(np.max(mask_voxel_coords[1])) + 1\n",
    "    minyidx = int(np.min(mask_voxel_coords[2]))\n",
    "    maxyidx = int(np.max(mask_voxel_coords[2])) + 1\n",
    "    return [[minzidx, maxzidx], [minxidx, maxxidx], [minyidx, maxyidx]]\n"
   ]
  },
  {
   "cell_type": "code",
   "execution_count": 9,
   "metadata": {},
   "outputs": [],
   "source": [
    "# nonzero_mask = create_nonzero_mask(data)"
   ]
  },
  {
   "cell_type": "code",
   "execution_count": 10,
   "metadata": {},
   "outputs": [],
   "source": [
    "# bbox = get_bbox_from_mask(seg, 0)\n"
   ]
  },
  {
   "cell_type": "code",
   "execution_count": 11,
   "metadata": {},
   "outputs": [],
   "source": [
    "# z, x, y = bbox\n",
    "# z1, z2 = z[0], z[1]\n",
    "# x1, x2 = x[0], x[1]\n",
    "# y1, y2 = y[0], y[1]"
   ]
  },
  {
   "cell_type": "code",
   "execution_count": 12,
   "metadata": {},
   "outputs": [],
   "source": [
    "# data = data[z1 - dis[0] : z2 + dis[0], x1 - dis[1] : x2 + dis[1], y1 - dis[2] : y2 + dis[2]]\n",
    "# seg  = seg[z1 - dis[0] : z2 + dis[0], x1 - dis[1] : x2 + dis[1], y1 - dis[2] : y2 + dis[2]]"
   ]
  },
  {
   "cell_type": "code",
   "execution_count": 13,
   "metadata": {},
   "outputs": [],
   "source": [
    "# seg.shape"
   ]
  },
  {
   "cell_type": "code",
   "execution_count": 14,
   "metadata": {},
   "outputs": [],
   "source": [
    "# data = sitk.GetImageFromArray(data)\n",
    "# data.SetSpacing(info_dict['Spacing'])\n",
    "\n",
    "\n",
    "# seg = sitk.GetImageFromArray(seg)\n",
    "# seg.SetSpacing(info_dict['Spacing'])\n"
   ]
  },
  {
   "cell_type": "code",
   "execution_count": 15,
   "metadata": {},
   "outputs": [],
   "source": [
    "# sample_image = sitk.WriteImage(data, f'/home/workspace/AMP_mysef_3D_Cls/data/crop3d/sample_image2.nii.gz')\n",
    "# sample_mask  = sitk.WriteImage(seg, f'/home/workspace/AMP_mysef_3D_Cls/data/crop3d/sample_seg2.nii.gz')"
   ]
  },
  {
   "cell_type": "code",
   "execution_count": null,
   "metadata": {},
   "outputs": [],
   "source": []
  },
  {
   "cell_type": "code",
   "execution_count": 16,
   "metadata": {},
   "outputs": [],
   "source": [
    "# sample = sitk.WriteImage(sitk.GetImageFromArray(nonzero_mask), f'/home/workspace/AMP_mysef_3D_Cls/data/crop3d/demo.nii.gz')"
   ]
  },
  {
   "cell_type": "code",
   "execution_count": 17,
   "metadata": {},
   "outputs": [
    {
     "name": "stdout",
     "output_type": "stream",
     "text": [
      "crc_266\n",
      "crc_267\n",
      "crc_268\n",
      "crc_269\n",
      "crc_270\n",
      "crc_271\n",
      "crc_272\n",
      "crc_273\n",
      "crc_274\n",
      "crc_275\n",
      "crc_276\n",
      "crc_277\n",
      "crc_278\n",
      "crc_279\n",
      "crc_280\n",
      "crc_281\n",
      "crc_282\n",
      "crc_283\n",
      "crc_284\n",
      "crc_285\n",
      "crc_286\n",
      "crc_287\n",
      "crc_288\n",
      "crc_289\n",
      "crc_290\n",
      "crc_291\n",
      "crc_292\n",
      "crc_293\n",
      "crc_294\n",
      "crc_295\n",
      "crc_296\n",
      "crc_297\n",
      "crc_298\n",
      "crc_299\n",
      "crc_300\n",
      "crc_301\n",
      "crc_302\n",
      "crc_303\n",
      "crc_304\n",
      "crc_305\n",
      "crc_306\n",
      "crc_307\n",
      "crc_308\n",
      "crc_309\n",
      "crc_310\n",
      "crc_311\n",
      "crc_312\n",
      "crc_313\n",
      "crc_314\n",
      "crc_315\n",
      "crc_316\n",
      "crc_317\n",
      "crc_318\n",
      "crc_319\n"
     ]
    }
   ],
   "source": [
    "image_path = f'/home/workspace/AMP_mysef_3D_Cls/data/padding_cropping/imgTs/'\n",
    "mask_path  = f'/home/workspace/AMP_mysef_3D_Cls/data/padding_cropping/maskTs/'\n",
    "\n",
    "image_files = sorted(glob.glob(os.path.join(image_path + '*.nii.gz')))\n",
    "mask_files  = sorted(glob.glob(os.path.join(mask_path + '*.nii.gz')))\n",
    "\n",
    "image_save_path = f'/home/workspace/AMP_mysef_3D_Cls/data/center_crop3d/imgTs'\n",
    "label_save_path = f'/home/workspace/AMP_mysef_3D_Cls/data/center_crop3d/maskTs'\n",
    "\n",
    "\n",
    "for image, label in zip(image_files, mask_files):\n",
    "\n",
    "    data, seg = sitk.ReadImage(image), sitk.ReadImage(label)\n",
    "    assert data.GetSpacing() == seg.GetSpacing()\n",
    "    assert data.GetSize() == seg.GetSize()\n",
    "    assert data.GetOrigin() == seg.GetOrigin()\n",
    "    assert data.GetDirection() == seg.GetDirection()\n",
    "    \n",
    "    info_dict['Spacing']    = data.GetSpacing()\n",
    "    info_dict['Size']       = data.GetSize()\n",
    "    info_dict['Origin']     = data.GetOrigin()\n",
    "    info_dict['Direction']  = data.GetDirection()\n",
    "\n",
    "    data, seg = sitk.GetArrayFromImage(data), sitk.GetArrayFromImage(seg)    \n",
    "\n",
    "    name = image.split('/')[-1].split('.')[0]\n",
    "\n",
    "    bbox = get_bbox_from_mask(seg, 0)\n",
    "    z, x, y = bbox\n",
    "    z1, z2 = z[0], z[1]\n",
    "    x1, x2 = x[0], x[1]\n",
    "    y1, y2 = y[0], y[1]\n",
    "\n",
    "\n",
    "    data = data[z1 - dis[0] : z2 + dis[0], x1 - dis[1] : x2 + dis[1], y1 - dis[2] : y2 + dis[2]]\n",
    "    seg  = seg[z1 - dis[0] : z2 + dis[0], x1 - dis[1] : x2 + dis[1], y1 - dis[2] : y2 + dis[2]]\n",
    "\n",
    "    data = sitk.GetImageFromArray(data)\n",
    "    data.SetSpacing(info_dict['Spacing'])\n",
    "\n",
    "\n",
    "    seg = sitk.GetImageFromArray(seg)\n",
    "    seg.SetSpacing(info_dict['Spacing'])\n",
    "\n",
    "    os.makedirs('%s'%(image_save_path), exist_ok=True)\n",
    "    os.makedirs('%s'%(label_save_path), exist_ok=True)\n",
    "    # sample_image = sitk.WriteImage(data, f'/home/workspace/AMP_mysef_3D_Cls/data/crop3d/sample_image2.nii.gz')\n",
    "    # sample_mask  = sitk.WriteImage(seg, f'/home/workspace/AMP_mysef_3D_Cls/data/crop3d/sample_seg2.nii.gz')\n",
    "    sitk.WriteImage(data, '%s/%s.nii.gz' % (image_save_path, name))\n",
    "    sitk.WriteImage(seg, '%s/%s.nii.gz' % (label_save_path, name))\n",
    "    print(name)\n",
    "    # sitk.WriteImage(re_img_xyz, '%s/%s.nii.gz'%(img_save_path, patient_name))\n",
    "    # sitk.WriteImage(re_lab_xyz, '%s/%s.nii.gz'%(mask_save_path, patient_name))"
   ]
  },
  {
   "cell_type": "code",
   "execution_count": null,
   "metadata": {},
   "outputs": [],
   "source": []
  }
 ],
 "metadata": {
  "kernelspec": {
   "display_name": "Python 3.8.13 ('MySegCls')",
   "language": "python",
   "name": "python3"
  },
  "language_info": {
   "codemirror_mode": {
    "name": "ipython",
    "version": 3
   },
   "file_extension": ".py",
   "mimetype": "text/x-python",
   "name": "python",
   "nbconvert_exporter": "python",
   "pygments_lexer": "ipython3",
   "version": "3.8.13"
  },
  "orig_nbformat": 4,
  "vscode": {
   "interpreter": {
    "hash": "b0d94fc16f7d19d0b172dc2a923499f7a9410020514f6a7ff3f9d6c9defe8f47"
   }
  }
 },
 "nbformat": 4,
 "nbformat_minor": 2
}
