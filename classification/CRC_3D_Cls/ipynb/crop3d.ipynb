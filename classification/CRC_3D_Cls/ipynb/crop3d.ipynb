{
 "cells": [
  {
   "cell_type": "code",
   "execution_count": 1,
   "metadata": {},
   "outputs": [],
   "source": [
    "import os\n",
    "import numpy as np\n",
    "import glob\n",
    "import SimpleITK as sitk\n",
    "dis = [0, 40, 40]\n",
    "info_dict = {\n",
    "    'Spacing': 0,\n",
    "    'Size': 0,\n",
    "    'Origin': 0,\n",
    "    'Direction': 0,\n",
    "}"
   ]
  },
  {
   "cell_type": "code",
   "execution_count": null,
   "metadata": {},
   "outputs": [],
   "source": []
  },
  {
   "cell_type": "code",
   "execution_count": null,
   "metadata": {},
   "outputs": [],
   "source": [
    "# #padding\n",
    "image_input = f'//home/workspace/AMP_mysef_3D_Cls/data/padding/imgTr/'\n",
    "mask_input  = f'/home/workspace/AMP_mysef_3D_Cls/data/padding/maskTr/'\n",
    "image_Tr_files_origin = sorted(glob(os.path.join(image_input + '/*.nii.gz')))\n",
    "label_Tr_files_origin = sorted(glob(os.path.join(mask_input + '/*.nii.gz')))\n",
    "for img, lab in zip(image_Tr_files_origin, label_Tr_files_origin):\n",
    "    # print(img, lab)\n",
    "    name = img.split('/')[-1].split('.')[0]\n",
    "    # print(name)\n",
    "    img, lab = sitk.ReadImage(img), sitk.ReadImage(lab)\n",
    "    assert img.GetSize() == lab.GetSize()\n",
    "    assert img.GetSpacing() == lab.GetSpacing()\n",
    "    assert img.GetDirection() == lab.GetDirection()\n",
    "    assert img.GetOrigin() == lab.GetOrigin()\n",
    "\n",
    "    print(name, \"===>\", img.GetSize(), \"===>\", img.GetSpacing())\n",
    "\n",
    "\n",
    "    "
   ]
  },
  {
   "cell_type": "code",
   "execution_count": null,
   "metadata": {},
   "outputs": [],
   "source": []
  }
 ],
 "metadata": {
  "kernelspec": {
   "display_name": "Python 3.8.13 ('MySegCls')",
   "language": "python",
   "name": "python3"
  },
  "language_info": {
   "codemirror_mode": {
    "name": "ipython",
    "version": 3
   },
   "file_extension": ".py",
   "mimetype": "text/x-python",
   "name": "python",
   "nbconvert_exporter": "python",
   "pygments_lexer": "ipython3",
   "version": "3.8.13"
  },
  "orig_nbformat": 4,
  "vscode": {
   "interpreter": {
    "hash": "b0d94fc16f7d19d0b172dc2a923499f7a9410020514f6a7ff3f9d6c9defe8f47"
   }
  }
 },
 "nbformat": 4,
 "nbformat_minor": 2
}
