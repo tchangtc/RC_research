{
 "cells": [
  {
   "cell_type": "code",
   "execution_count": 1,
   "metadata": {},
   "outputs": [],
   "source": [
    "import SimpleITK as sitk\n",
    "import numpy as np\n",
    "import matplotlib.pyplot as plt\n",
    "from PIL import Image\n",
    "from augmentation import GaussianBlurTransform"
   ]
  },
  {
   "cell_type": "code",
   "execution_count": 2,
   "metadata": {},
   "outputs": [],
   "source": [
    "# img_file = '/home/workspace/research/AMP_mysef_3D_Cls/data/final_out_0522/imagesTr/crc_007.nii.gz'\n",
    "img_file = '/home/workspace/research/AMP_mysef_3D_Cls/data/imagesTr/crc_007.nii.gz'\n",
    "gt_file  = '/home/workspace/research/AMP_mysef_3D_Cls/data/final_out_0522/labelsTr/crc_007.nii.gz'\n",
    "\n",
    "data = {'image': img_file, 'label': gt_file}"
   ]
  },
  {
   "cell_type": "code",
   "execution_count": 3,
   "metadata": {},
   "outputs": [],
   "source": [
    "# import matplotlib.pyplot as plt\n",
    "# def draw_oct(volume, type_volume = 'np',canal_first = False):\n",
    "#     if type_volume == 'np':\n",
    "#         if canal_first == False:\n",
    "#             print(\"taille du volume = %s (%s)\"%(volume.shape,type_volume))\n",
    "#             slice_h_n, slice_d_n , slice_w_n = int(volume.shape[0]/2),int(volume.shape[1]/2),int(volume.shape[2]/2) \n",
    "#             slice_h = volume[slice_h_n,:,:]\n",
    "#             slice_d = volume[:,slice_d_n,:]\n",
    "#             slice_w = volume[:,:,slice_w_n]\n",
    "#             slice_h = Image.fromarray(np.squeeze(slice_h))\n",
    "#             slice_d = Image.fromarray(np.squeeze(slice_d))\n",
    "#             slice_w = Image.fromarray(np.squeeze(slice_w))\n",
    "#             plt.figure(figsize=(21,7))\n",
    "#             plt.subplot(1, 3, 1)\n",
    "#             plt.imshow(slice_h)\n",
    "#             plt.title(slice_h.size)\n",
    "#             plt.axis('off')\n",
    "#             plt.subplot(1, 3, 2)\n",
    "#             plt.imshow(slice_d)\n",
    "#             plt.title(slice_d.size)\n",
    "#             plt.axis('off')\n",
    "#             plt.subplot(1, 3, 3)\n",
    "#             plt.imshow(slice_w)\n",
    "#             plt.title(slice_w.size)\n",
    "#             plt.axis('off')\n",
    "#         if canal_first == True:\n",
    "#             print(\"taille du volume = %s (%s)\"%(volume.shape,type_volume))\n",
    "#             slice_h_n, slice_d_n , slice_w_n = int(volume.shape[1]/2),int(volume.shape[2]/2),int(volume.shape[3]/2) \n",
    "#             slice_h = volume[:,slice_h_n,:,:]\n",
    "#             slice_d = volume[:,:,slice_d_n,:]\n",
    "#             slice_w = volume[:,:,:,slice_w_n]\n",
    "#             slice_h = Image.fromarray(np.squeeze(slice_h))\n",
    "#             slice_d = Image.fromarray(np.squeeze(slice_d))\n",
    "#             slice_w = Image.fromarray(np.squeeze(slice_w))\n",
    "#             plt.figure(figsize=(21,7))\n",
    "#             plt.subplot(1, 3, 1)\n",
    "#             plt.imshow(slice_h)\n",
    "#             plt.title(slice_h.size)\n",
    "#             plt.axis('off')\n",
    "#             plt.subplot(1, 3, 2)\n",
    "#             plt.imshow(slice_d)\n",
    "#             plt.title(slice_d.size)\n",
    "#             plt.axis('off')\n",
    "#             plt.subplot(1, 3, 3)\n",
    "#             plt.imshow(slice_w)\n",
    "#             plt.title(slice_w.size)\n",
    "#             plt.axis('off')\n",
    "            \n",
    "#     if type_volume == 'tensor':\n",
    "#         print(\"taille du volume = %s (%s)\"%(volume.shape,type_volume))\n",
    "#         slice_h_n, slice_d_n , slice_w_n = int(volume.shape[0]/2),int(volume.shape[1]/2),int(volume.shape[2]/2) \n",
    "#         slice_h = volume[slice_h_n,:,:,:].numpy()\n",
    "#         slice_d = volume[:,slice_d_n,:,:].numpy()\n",
    "#         slice_w = volume[:,:,slice_w_n,:].numpy()\n",
    "#         slice_h = Image.fromarray(np.squeeze(slice_h))\n",
    "#         slice_d = Image.fromarray(np.squeeze(slice_d))\n",
    "#         slice_w = Image.fromarray(np.squeeze(slice_w))\n",
    "#         plt.figure(figsize=(21,7))\n",
    "#         plt.subplot(1, 3, 1)\n",
    "#         plt.imshow(slice_h)\n",
    "#         plt.title(slice_h.size)\n",
    "#         plt.axis('off')\n",
    "#         plt.subplot(1, 3, 2)\n",
    "#         plt.imshow(slice_d)\n",
    "#         plt.title(slice_d.size)\n",
    "#         plt.axis('off')\n",
    "#         plt.subplot(1, 3, 3)\n",
    "#         plt.imshow(slice_w)\n",
    "#         plt.title(slice_w.size)\n",
    "#         plt.axis('off')\n"
   ]
  },
  {
   "cell_type": "code",
   "execution_count": 4,
   "metadata": {},
   "outputs": [],
   "source": [
    "# import numpy as np\n",
    "# from scipy import ndimage\n",
    "# import nibabel as nib\n",
    "# image_structure_name = img_file\n",
    "# # volume_structure_ori = sitk.ReadImage(image_structure_name)\n",
    "# # volume_structure_ori = sitk.GetArrayFromImage(volume_structure_ori)\n",
    "# volume_structure_ori = nib.load(image_structure_name)\n",
    "# volume_structure_ori = volume_structure_ori.get_data().astype(np.float32)\n",
    "# draw_oct(volume_structure_ori)\n"
   ]
  },
  {
   "cell_type": "code",
   "execution_count": 5,
   "metadata": {},
   "outputs": [],
   "source": [
    "# import time\n",
    "# start = time.time()\n",
    "# data_structure = {'image': volume_structure_224}\n",
    "# aug_data = aug_pad(**data_structure)\n",
    "# volume_pad = aug_data['image']\n",
    "# end = time.time()\n",
    "# print('time for transform =',end-start)\n",
    "# draw_oct(volume_pad)\n"
   ]
  },
  {
   "cell_type": "code",
   "execution_count": 8,
   "metadata": {},
   "outputs": [],
   "source": [
    "from volumentations import Compose\n",
    "\n",
    "aug_guassianNoise = Compose([\n",
    "                                # GaussianNoiseTransform(noise_variance=(0, 0.07), p_per_sample=0.25),\n",
    "                                \n",
    "                                GaussianBlurTransform(blur_sigma=(1, 5), p_per_channel=0.25, p_per_sample=0.25),\n",
    "                                \n",
    "                                # BrightnessTransform(mu=0, sigma=1, p_per_channel=0.25, p_per_sample=0.25),\n",
    "                                \n",
    "                                # GammaTransform(gamma_range=(0.25, 1), p_per_sample=0.25),\n",
    "                                \n",
    "                                # RandomRotFlip(),\n",
    "                                \n",
    "                                # MirrorTransform(p_per_sample=0.5),\n",
    "                            ], p=0.5)"
   ]
  },
  {
   "cell_type": "code",
   "execution_count": 10,
   "metadata": {},
   "outputs": [
    {
     "ename": "AttributeError",
     "evalue": "'GaussianBlurTransform' object has no attribute 'always_apply'",
     "output_type": "error",
     "traceback": [
      "\u001b[0;31m---------------------------------------------------------------------------\u001b[0m",
      "\u001b[0;31mAttributeError\u001b[0m                            Traceback (most recent call last)",
      "Cell \u001b[0;32mIn[10], line 6\u001b[0m\n\u001b[1;32m      3\u001b[0m rr[\u001b[39m'\u001b[39m\u001b[39mlabel\u001b[39m\u001b[39m'\u001b[39m] \u001b[39m=\u001b[39m sitk\u001b[39m.\u001b[39mGetArrayFromImage(sitk\u001b[39m.\u001b[39mReadImage(gt_file))\n\u001b[1;32m      5\u001b[0m data_structure \u001b[39m=\u001b[39m {\u001b[39m'\u001b[39m\u001b[39mimage\u001b[39m\u001b[39m'\u001b[39m: rr[\u001b[39m'\u001b[39m\u001b[39mimage\u001b[39m\u001b[39m'\u001b[39m], \u001b[39m'\u001b[39m\u001b[39mlabel\u001b[39m\u001b[39m'\u001b[39m: rr[\u001b[39m'\u001b[39m\u001b[39mlabel\u001b[39m\u001b[39m'\u001b[39m]}\n\u001b[0;32m----> 6\u001b[0m aug_data \u001b[39m=\u001b[39m aug_guassianNoise(\u001b[39m*\u001b[39;49m\u001b[39m*\u001b[39;49mdata_structure)\n\u001b[1;32m      7\u001b[0m volume_randomcrop \u001b[39m=\u001b[39m aug_data[\u001b[39m'\u001b[39m\u001b[39mimage\u001b[39m\u001b[39m'\u001b[39m]\n\u001b[1;32m      8\u001b[0m \u001b[39m# draw_oct(volume_randomcrop)\u001b[39;00m\n",
      "File \u001b[0;32m/opt/conda/envs/MySegCls/lib/python3.8/site-packages/volumentations/core/composition.py:156\u001b[0m, in \u001b[0;36mCompose.__call__\u001b[0;34m(self, force_apply, **data)\u001b[0m\n\u001b[1;32m    151\u001b[0m \u001b[39mfor\u001b[39;00m p \u001b[39min\u001b[39;00m \u001b[39mself\u001b[39m\u001b[39m.\u001b[39mprocessors\u001b[39m.\u001b[39mvalues():\n\u001b[1;32m    152\u001b[0m     p\u001b[39m.\u001b[39mensure_data_valid(data)\n\u001b[1;32m    153\u001b[0m transforms \u001b[39m=\u001b[39m (\n\u001b[1;32m    154\u001b[0m     \u001b[39mself\u001b[39m\u001b[39m.\u001b[39mtransforms\n\u001b[1;32m    155\u001b[0m     \u001b[39mif\u001b[39;00m need_to_run\n\u001b[0;32m--> 156\u001b[0m     \u001b[39melse\u001b[39;00m \u001b[39mself\u001b[39;49m\u001b[39m.\u001b[39;49mtransforms\u001b[39m.\u001b[39;49mget_always_apply(\u001b[39mself\u001b[39;49m\u001b[39m.\u001b[39;49mtransforms)\n\u001b[1;32m    157\u001b[0m )\n\u001b[1;32m    158\u001b[0m dual_start_end \u001b[39m=\u001b[39m transforms\u001b[39m.\u001b[39mstart_end \u001b[39mif\u001b[39;00m \u001b[39mself\u001b[39m\u001b[39m.\u001b[39mprocessors \u001b[39melse\u001b[39;00m \u001b[39mNone\u001b[39;00m\n\u001b[1;32m    160\u001b[0m \u001b[39mfor\u001b[39;00m idx, t \u001b[39min\u001b[39;00m \u001b[39menumerate\u001b[39m(transforms):\n",
      "File \u001b[0;32m/opt/conda/envs/MySegCls/lib/python3.8/site-packages/volumentations/core/composition.py:44\u001b[0m, in \u001b[0;36mTransforms.get_always_apply\u001b[0;34m(self, transforms)\u001b[0m\n\u001b[1;32m     42\u001b[0m     \u001b[39mif\u001b[39;00m \u001b[39misinstance\u001b[39m(transform, BaseCompose):\n\u001b[1;32m     43\u001b[0m         new_transforms\u001b[39m.\u001b[39mextend(\u001b[39mself\u001b[39m\u001b[39m.\u001b[39mget_always_apply(transform))\n\u001b[0;32m---> 44\u001b[0m     \u001b[39melif\u001b[39;00m transform\u001b[39m.\u001b[39;49malways_apply:\n\u001b[1;32m     45\u001b[0m         new_transforms\u001b[39m.\u001b[39mappend(transform)\n\u001b[1;32m     46\u001b[0m \u001b[39mreturn\u001b[39;00m Transforms(new_transforms)\n",
      "\u001b[0;31mAttributeError\u001b[0m: 'GaussianBlurTransform' object has no attribute 'always_apply'"
     ]
    }
   ],
   "source": [
    "rr = {}\n",
    "rr['image'] = sitk.GetArrayFromImage(sitk.ReadImage(img_file))\n",
    "rr['label'] = sitk.GetArrayFromImage(sitk.ReadImage(gt_file))\n",
    "\n",
    "data_structure = {'image': rr['image'], 'label': rr['label']}\n",
    "aug_data = aug_guassianNoise(**data_structure)\n",
    "volume_randomcrop = aug_data['image']\n",
    "# draw_oct(volume_randomcrop)\n"
   ]
  },
  {
   "cell_type": "code",
   "execution_count": 11,
   "metadata": {},
   "outputs": [],
   "source": [
    "from torchvision import transforms\n",
    "\n",
    "transforms=transforms.Compose([\n",
    "                                    # GaussianNoiseTransform(noise_variance=(0, 0.07), p_per_sample=0.25),\n",
    "                                    \n",
    "                                    GaussianBlurTransform(blur_sigma=(1, 5), p_per_channel=0.25, p_per_sample=0.25),\n",
    "                                    \n",
    "                                    # BrightnessTransform(mu=0, sigma=1, p_per_channel=0.25, p_per_sample=0.25),\n",
    "                                    \n",
    "                                    # GammaTransform(gamma_range=(0.25, 1), p_per_sample=0.25),\n",
    "                                    \n",
    "                                    # RandomRotFlip(),\n",
    "                                    \n",
    "                                    # MirrorTransform(p_per_sample=0.5),\n",
    "                               ])\n"
   ]
  },
  {
   "cell_type": "code",
   "execution_count": null,
   "metadata": {},
   "outputs": [],
   "source": []
  }
 ],
 "metadata": {
  "kernelspec": {
   "display_name": "MySegCls",
   "language": "python",
   "name": "python3"
  },
  "language_info": {
   "codemirror_mode": {
    "name": "ipython",
    "version": 3
   },
   "file_extension": ".py",
   "mimetype": "text/x-python",
   "name": "python",
   "nbconvert_exporter": "python",
   "pygments_lexer": "ipython3",
   "version": "3.8.16"
  },
  "orig_nbformat": 4,
  "vscode": {
   "interpreter": {
    "hash": "b0d94fc16f7d19d0b172dc2a923499f7a9410020514f6a7ff3f9d6c9defe8f47"
   }
  }
 },
 "nbformat": 4,
 "nbformat_minor": 2
}
